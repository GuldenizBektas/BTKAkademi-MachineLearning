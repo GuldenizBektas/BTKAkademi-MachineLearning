{
 "cells": [
  {
   "cell_type": "markdown",
   "metadata": {},
   "source": [
    "### Simple Linear Regression"
   ]
  },
  {
   "cell_type": "markdown",
   "metadata": {},
   "source": [
    "Linear regression is a linear approach to modeling the relationship between a dependent variable and one or more independent variables."
   ]
  },
  {
   "cell_type": "markdown",
   "metadata": {},
   "source": [
    "#### Importing libraries"
   ]
  },
  {
   "cell_type": "code",
   "execution_count": 1,
   "metadata": {},
   "outputs": [],
   "source": [
    "import numpy as np\n",
    "import pandas as pd\n",
    "import matplotlib.pyplot as plt"
   ]
  },
  {
   "cell_type": "code",
   "execution_count": 2,
   "metadata": {},
   "outputs": [],
   "source": [
    "# Read our csv file\n",
    "df = pd.read_csv(\"satislar.csv\")"
   ]
  },
  {
   "cell_type": "code",
   "execution_count": 3,
   "metadata": {},
   "outputs": [
    {
     "data": {
      "text/html": [
       "<div>\n",
       "<style scoped>\n",
       "    .dataframe tbody tr th:only-of-type {\n",
       "        vertical-align: middle;\n",
       "    }\n",
       "\n",
       "    .dataframe tbody tr th {\n",
       "        vertical-align: top;\n",
       "    }\n",
       "\n",
       "    .dataframe thead th {\n",
       "        text-align: right;\n",
       "    }\n",
       "</style>\n",
       "<table border=\"1\" class=\"dataframe\">\n",
       "  <thead>\n",
       "    <tr style=\"text-align: right;\">\n",
       "      <th></th>\n",
       "      <th>Aylar</th>\n",
       "      <th>Satislar</th>\n",
       "    </tr>\n",
       "  </thead>\n",
       "  <tbody>\n",
       "    <tr>\n",
       "      <th>0</th>\n",
       "      <td>8</td>\n",
       "      <td>19671.5</td>\n",
       "    </tr>\n",
       "    <tr>\n",
       "      <th>1</th>\n",
       "      <td>10</td>\n",
       "      <td>23102.5</td>\n",
       "    </tr>\n",
       "    <tr>\n",
       "      <th>2</th>\n",
       "      <td>11</td>\n",
       "      <td>18865.5</td>\n",
       "    </tr>\n",
       "    <tr>\n",
       "      <th>3</th>\n",
       "      <td>13</td>\n",
       "      <td>21762.5</td>\n",
       "    </tr>\n",
       "    <tr>\n",
       "      <th>4</th>\n",
       "      <td>14</td>\n",
       "      <td>19945.5</td>\n",
       "    </tr>\n",
       "  </tbody>\n",
       "</table>\n",
       "</div>"
      ],
      "text/plain": [
       "   Aylar  Satislar\n",
       "0      8   19671.5\n",
       "1     10   23102.5\n",
       "2     11   18865.5\n",
       "3     13   21762.5\n",
       "4     14   19945.5"
      ]
     },
     "execution_count": 3,
     "metadata": {},
     "output_type": "execute_result"
    }
   ],
   "source": [
    "df.head()"
   ]
  },
  {
   "cell_type": "code",
   "execution_count": 4,
   "metadata": {},
   "outputs": [
    {
     "data": {
      "text/plain": [
       "Aylar       0\n",
       "Satislar    0\n",
       "dtype: int64"
      ]
     },
     "execution_count": 4,
     "metadata": {},
     "output_type": "execute_result"
    }
   ],
   "source": [
    "df.isna().sum()"
   ]
  },
  {
   "cell_type": "markdown",
   "metadata": {},
   "source": [
    "#### spliting our data as test and train"
   ]
  },
  {
   "cell_type": "code",
   "execution_count": 5,
   "metadata": {},
   "outputs": [],
   "source": [
    "aylar = df.iloc[:, 0:1].values\n",
    "satislar = df.iloc[:, 1:].values"
   ]
  },
  {
   "cell_type": "code",
   "execution_count": 6,
   "metadata": {},
   "outputs": [
    {
     "data": {
      "text/plain": [
       "array([[ 8],\n",
       "       [10],\n",
       "       [11],\n",
       "       [13],\n",
       "       [14],\n",
       "       [19],\n",
       "       [19],\n",
       "       [20],\n",
       "       [20],\n",
       "       [24],\n",
       "       [25],\n",
       "       [25],\n",
       "       [25],\n",
       "       [26],\n",
       "       [29],\n",
       "       [31],\n",
       "       [32],\n",
       "       [34],\n",
       "       [37],\n",
       "       [37],\n",
       "       [42],\n",
       "       [44],\n",
       "       [49],\n",
       "       [50],\n",
       "       [54],\n",
       "       [55],\n",
       "       [59],\n",
       "       [59],\n",
       "       [64],\n",
       "       [65]])"
      ]
     },
     "execution_count": 6,
     "metadata": {},
     "output_type": "execute_result"
    }
   ],
   "source": [
    "aylar"
   ]
  },
  {
   "cell_type": "code",
   "execution_count": 7,
   "metadata": {},
   "outputs": [
    {
     "data": {
      "text/plain": [
       "array([[19671.5],\n",
       "       [23102.5],\n",
       "       [18865.5],\n",
       "       [21762.5],\n",
       "       [19945.5],\n",
       "       [28321. ],\n",
       "       [30075. ],\n",
       "       [27222.5],\n",
       "       [32222.5],\n",
       "       [28594.5],\n",
       "       [31609. ],\n",
       "       [27897. ],\n",
       "       [28478.5],\n",
       "       [28540.5],\n",
       "       [30555.5],\n",
       "       [33969. ],\n",
       "       [33014.5],\n",
       "       [41544. ],\n",
       "       [40681.5],\n",
       "       [ 4697. ],\n",
       "       [45869. ],\n",
       "       [49136.5],\n",
       "       [50651. ],\n",
       "       [56906. ],\n",
       "       [54715.5],\n",
       "       [52791. ],\n",
       "       [58484.5],\n",
       "       [56317.5],\n",
       "       [61195.5],\n",
       "       [60936. ]])"
      ]
     },
     "execution_count": 7,
     "metadata": {},
     "output_type": "execute_result"
    }
   ],
   "source": [
    "satislar"
   ]
  },
  {
   "cell_type": "code",
   "execution_count": 8,
   "metadata": {},
   "outputs": [],
   "source": [
    "from sklearn.model_selection import train_test_split"
   ]
  },
  {
   "cell_type": "code",
   "execution_count": 9,
   "metadata": {},
   "outputs": [],
   "source": [
    "x_train, x_test, y_train, y_test = train_test_split(aylar, satislar, test_size=0.33, random_state=0)"
   ]
  },
  {
   "cell_type": "code",
   "execution_count": 10,
   "metadata": {},
   "outputs": [],
   "source": [
    "from sklearn.preprocessing import StandardScaler"
   ]
  },
  {
   "cell_type": "code",
   "execution_count": 11,
   "metadata": {},
   "outputs": [],
   "source": [
    "sc = StandardScaler()"
   ]
  },
  {
   "cell_type": "code",
   "execution_count": 12,
   "metadata": {},
   "outputs": [],
   "source": [
    "X_train = sc.fit_transform(x_train)\n",
    "X_test = sc.fit_transform(x_test)\n",
    "Y_train = sc.fit_transform(y_train)\n",
    "Y_test = sc.fit_transform(y_test)"
   ]
  },
  {
   "cell_type": "code",
   "execution_count": 13,
   "metadata": {},
   "outputs": [
    {
     "data": {
      "text/plain": [
       "array([[-0.70368853],\n",
       "       [ 0.15126015],\n",
       "       [-0.63792324],\n",
       "       [-0.0460357 ],\n",
       "       [ 1.33503524],\n",
       "       [ 0.80891298],\n",
       "       [-1.29557607],\n",
       "       [ 2.32151449],\n",
       "       [-0.70368853],\n",
       "       [-1.03251494],\n",
       "       [ 0.48008657],\n",
       "       [ 0.48008657],\n",
       "       [-0.37486211],\n",
       "       [-0.63792324],\n",
       "       [ 1.66386166],\n",
       "       [-1.09828023],\n",
       "       [-1.42710664],\n",
       "       [ 0.94044355],\n",
       "       [ 0.08549487],\n",
       "       [-0.30909683]])"
      ]
     },
     "execution_count": 13,
     "metadata": {},
     "output_type": "execute_result"
    }
   ],
   "source": [
    "X_train"
   ]
  },
  {
   "cell_type": "code",
   "execution_count": 14,
   "metadata": {},
   "outputs": [
    {
     "data": {
      "text/plain": [
       "array([[-1.68268756],\n",
       "       [ 1.33023274],\n",
       "       [-0.82997427],\n",
       "       [-0.88682182],\n",
       "       [ 1.04599497],\n",
       "       [ 0.76175721],\n",
       "       [ 1.04599497],\n",
       "       [-0.88682182],\n",
       "       [-0.37519385],\n",
       "       [ 0.47751944]])"
      ]
     },
     "execution_count": 14,
     "metadata": {},
     "output_type": "execute_result"
    }
   ],
   "source": [
    "X_test"
   ]
  },
  {
   "cell_type": "code",
   "execution_count": 15,
   "metadata": {},
   "outputs": [],
   "source": [
    "#model building\n",
    "from sklearn.linear_model import LinearRegression"
   ]
  },
  {
   "cell_type": "code",
   "execution_count": 16,
   "metadata": {},
   "outputs": [],
   "source": [
    "lr = LinearRegression()"
   ]
  },
  {
   "cell_type": "code",
   "execution_count": 17,
   "metadata": {},
   "outputs": [],
   "source": [
    "lr.fit(X_train, Y_train)\n",
    "tahmin = lr.predict(X_test)"
   ]
  },
  {
   "cell_type": "code",
   "execution_count": 18,
   "metadata": {},
   "outputs": [
    {
     "data": {
      "text/plain": [
       "array([[-1.33324088],\n",
       "       [ 1.05398097],\n",
       "       [-0.65761206],\n",
       "       [-0.70265398],\n",
       "       [ 0.82877136],\n",
       "       [ 0.60356175],\n",
       "       [ 0.82877136],\n",
       "       [-0.70265398],\n",
       "       [-0.29727668],\n",
       "       [ 0.37835214]])"
      ]
     },
     "execution_count": 18,
     "metadata": {},
     "output_type": "execute_result"
    }
   ],
   "source": [
    "tahmin"
   ]
  },
  {
   "cell_type": "code",
   "execution_count": 19,
   "metadata": {},
   "outputs": [],
   "source": [
    "lr = LinearRegression()\n",
    "lr.fit(x_train, y_train)\n",
    "tahmin = lr.predict(x_test)"
   ]
  },
  {
   "cell_type": "code",
   "execution_count": 20,
   "metadata": {},
   "outputs": [
    {
     "data": {
      "text/plain": [
       "array([[20126.21865404],\n",
       "       [57740.29412655],\n",
       "       [30771.7117123 ],\n",
       "       [30062.01217508],\n",
       "       [54191.79644047],\n",
       "       [50643.29875438],\n",
       "       [54191.79644047],\n",
       "       [30062.01217508],\n",
       "       [36449.30801003],\n",
       "       [47094.80106829]])"
      ]
     },
     "execution_count": 20,
     "metadata": {},
     "output_type": "execute_result"
    }
   ],
   "source": [
    "tahmin"
   ]
  },
  {
   "cell_type": "code",
   "execution_count": 21,
   "metadata": {},
   "outputs": [
    {
     "data": {
      "text/plain": [
       "array([[18865.5],\n",
       "       [61195.5],\n",
       "       [28540.5],\n",
       "       [31609. ],\n",
       "       [58484.5],\n",
       "       [54715.5],\n",
       "       [56317.5],\n",
       "       [27897. ],\n",
       "       [41544. ],\n",
       "       [50651. ]])"
      ]
     },
     "execution_count": 21,
     "metadata": {},
     "output_type": "execute_result"
    }
   ],
   "source": [
    "y_test"
   ]
  },
  {
   "cell_type": "markdown",
   "metadata": {},
   "source": [
    "Our chart will be conflex because our months column is not in a certain order."
   ]
  },
  {
   "cell_type": "markdown",
   "metadata": {},
   "source": [
    "My x and y train data is in array format. Let's first convert it to data frame, then let's sort the values by the '0' column. Finally, let's reset the mixed indexes and drop the index column."
   ]
  },
  {
   "cell_type": "code",
   "execution_count": 65,
   "metadata": {},
   "outputs": [],
   "source": [
    "a = pd.DataFrame(x_train).sort_values(by = [0])"
   ]
  },
  {
   "cell_type": "code",
   "execution_count": 66,
   "metadata": {},
   "outputs": [],
   "source": [
    "a = a.reset_index()"
   ]
  },
  {
   "cell_type": "code",
   "execution_count": 67,
   "metadata": {},
   "outputs": [],
   "source": [
    "a.drop('index', axis=1, inplace=True)"
   ]
  },
  {
   "cell_type": "code",
   "execution_count": 68,
   "metadata": {},
   "outputs": [],
   "source": [
    "b = pd.DataFrame(y_train).sort_values(by = [0])\n",
    "b = b.reset_index()"
   ]
  },
  {
   "cell_type": "code",
   "execution_count": 69,
   "metadata": {},
   "outputs": [],
   "source": [
    "b.drop('index', axis=1, inplace=True)"
   ]
  },
  {
   "cell_type": "code",
   "execution_count": 74,
   "metadata": {},
   "outputs": [
    {
     "data": {
      "image/png": "[encoded data removed]",
      "text/plain": [
       "<Figure size 432x288 with 1 Axes>"
      ]
     },
     "metadata": {
      "needs_background": "light"
     },
     "output_type": "display_data"
    }
   ],
   "source": [
    "plt.plot(a, b)\n",
    "plt.plot(x_test, lr.predict(x_test))\n",
    "plt.xlabel(\"Aylar\")\n",
    "plt.ylabel(\"Satış\")\n",
    "plt.title(\"Aylara Göre Artış\");"
   ]
  }
 ],
 "metadata": {
  "kernelspec": {
   "display_name": "Python 3",
   "language": "python",
   "name": "python3"
  },
  "language_info": {
   "codemirror_mode": {
    "name": "ipython",
    "version": 3
   },
   "file_extension": ".py",
   "mimetype": "text/x-python",
   "name": "python",
   "nbconvert_exporter": "python",
   "pygments_lexer": "ipython3",
   "version": "3.7.4"
  }
 },
 "nbformat": 4,
 "nbformat_minor": 2
}
